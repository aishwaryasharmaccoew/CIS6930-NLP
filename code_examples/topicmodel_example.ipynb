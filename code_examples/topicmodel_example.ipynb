{
  "nbformat": 4,
  "nbformat_minor": 0,
  "metadata": {
    "colab": {
      "provenance": [],
      "toc_visible": true
    },
    "kernelspec": {
      "name": "python3",
      "display_name": "Python 3"
    },
    "language_info": {
      "name": "python"
    }
  },
  "cells": [
    {
      "cell_type": "code",
      "execution_count": 31,
      "metadata": {
        "id": "zqDVXQsVKFqT"
      },
      "outputs": [],
      "source": [
        "import nltk\n",
        "from nltk.corpus import stopwords\n",
        "from nltk.stem import WordNetLemmatizer\n",
        "from nltk.tokenize import word_tokenize\n",
        "\n",
        "import gensim\n",
        "from gensim import corpora\n",
        "from gensim.models import LdaModel\n",
        "from gensim.models import CoherenceModel"
      ]
    },
    {
      "cell_type": "code",
      "source": [
        "nltk.download('punkt')\n",
        "nltk.download('stopwords')\n",
        "nltk.download('wordnet')\n",
        "nltk.download('omw-1.4')\n"
      ],
      "metadata": {
        "colab": {
          "base_uri": "https://localhost:8080/"
        },
        "id": "ZDFRf5jtNVFA",
        "outputId": "2c3cdaa5-9de0-402c-ceb1-64408bb7b5cb"
      },
      "execution_count": 32,
      "outputs": [
        {
          "output_type": "stream",
          "name": "stderr",
          "text": [
            "[nltk_data] Downloading package punkt to /root/nltk_data...\n",
            "[nltk_data]   Package punkt is already up-to-date!\n",
            "[nltk_data] Downloading package stopwords to /root/nltk_data...\n",
            "[nltk_data]   Package stopwords is already up-to-date!\n",
            "[nltk_data] Downloading package wordnet to /root/nltk_data...\n",
            "[nltk_data]   Package wordnet is already up-to-date!\n",
            "[nltk_data] Downloading package omw-1.4 to /root/nltk_data...\n",
            "[nltk_data]   Package omw-1.4 is already up-to-date!\n"
          ]
        },
        {
          "output_type": "execute_result",
          "data": {
            "text/plain": [
              "True"
            ]
          },
          "metadata": {},
          "execution_count": 32
        }
      ]
    },
    {
      "cell_type": "code",
      "source": [
        "corpus = [\n",
        "    \"Almost everyday I wake up hating myself, why would I hate myself though? I graduated High School, have a loving and healthy family, have hobbies and online friends. Yet I find myself so paranoid and hateful of myself, why do I deserve this life I have? Sometimes I just wanna scream, feeling like I'm trapped in another person's skin, I feel like all my accomplishments are fake and I'm a useless slab of meat who'll eventually die. I don't have real life friends, post secondary, a job, a car or a license and the closest family I have is 6 hours away and barely talks to me. I want to be happy for the good things in my life but find hating myself all too easy. When I hate myself I feel selfish, like I'm so self-absorbed that I only care about myself. I just want to be happy like people online or in my family, to just always see the glass half full and not always half empty\"\n",
        "    \"This might sound ridiculous, but I want to die, and I'm not severely depressed. I'm approaching this purely philosophically. The way I see it, my life is more suffering than joy, and that's probably not going to change. In fact, I would say this is true of most people. We spend most of our time doing things we don't want to do: working, cleaning, driving in traffic, feeling hungry, experiencing physical discomfort, etc, etc. Why would it not be better to not exist at all (I don't believe in an afterlife) rather than experience the totality of consciousness? Now other people will mourn my death, this much is true. But they're going to mourn my death regardless of when it happens. No mourning is avoided by making it happen now. If anything, I'm at a point in my life when no one is dependent on me and my death will have the smallest impact it probably ever will. So why not die?\"\n",
        "    \"I was just prescribed it for my severe depression and anxiety.\"\n",
        "    \"Has some of you ever sometimes or all the times tell yourself that I hate myself like it just comes out out of nowhere? Or I want to die. Like I can be in deep thought and it just comes out without me thinking like it's a habit or something. I sometimes have to look around to make sure no one heard me. Does anyone ever experience this? Am I explaining this clearly enough? Edit: thanks for all the comments today wasn't the best day for me or week for that matter. Y'all comments made me feel a little better. Especially Mr. Wicked91 thanks, man!!!!!\"\n",
        "    \"If I could just, stop existing. I would do it in a heartbeat. But I can't... I have to commit suicide in order to do that. And even then I leave footsteps. My family would be hurt. I just wish that i was never born in the first place. Then a poor family wouldn't have to worry about me. This is one of the reasons i haven't done it yet. My girlfriend would also be very upset. I just want to go without anyone being sad about me, like I never even happened. That would be so nice\"\n",
        "    \"Bad things happen to me, and worst of all, they're inevitable. I think I'm better off dead than alive.\"\n",
        "    \"To kill myself if im ugly?\"\n",
        "    \"Indubitably, I am not worth anything as a being, contrary to the belief of all redditors who will reply to this, I have never once done anything correct in my life, all I have ever succeeded in has been to be hurtful and disrespectful to others and taking others for granted. All I breed is catastrophe. I am not at all talented or skilled at anything in particular, I am below average in every concept known to man. I have no motivation nor intention to progress in my life. I seem to be an inconvenience, an unpleasant burden towards society. I'd say my existence is more so comparable to a tumor, I am not productive and only produce negative effects on others that unfortunately have the unbearable pain that comes from interaction with someone like me. Entrapped in this body, I dream of going into eternal sleep, a great rest that lasts to the end of time. I do not have any interest in anything anymore, daily politics bore me a great deal and I'm not at all intrigued by life at all. I don't see a reason to not follow through with it when I have no intrinsic value and no drive nor intent to live at all.\"\n",
        "]"
      ],
      "metadata": {
        "id": "lVlhXVDbNV2l"
      },
      "execution_count": 45,
      "outputs": []
    },
    {
      "cell_type": "code",
      "source": [
        "# Step 1: Tokenize the documents\n",
        "# Tokenize the text into words\n",
        "tokenized_documents = [word_tokenize(doc.lower()) for doc in corpus]\n"
      ],
      "metadata": {
        "id": "VQIW_AhUNZcJ"
      },
      "execution_count": 46,
      "outputs": []
    },
    {
      "cell_type": "code",
      "source": [
        "# Step 2: Remove stopwords\n",
        "# Remove stop words from the tokenized documents\n",
        "stop_words = set(stopwords.words('english'))\n",
        "filtered_documents = [[word for word in doc if word not in stop_words] for doc in tokenized_documents]"
      ],
      "metadata": {
        "id": "21-q1U17NaCG"
      },
      "execution_count": 47,
      "outputs": []
    },
    {
      "cell_type": "code",
      "source": [
        "# Step 3: Lemmatize words\n",
        "# Lemmatize the words in the filtered documents\n",
        "lemmatizer = WordNetLemmatizer()\n",
        "lemmatized_documents = [[lemmatizer.lemmatize(word) for word in doc] for doc in filtered_documents]"
      ],
      "metadata": {
        "id": "HsyIJuFUNf7S"
      },
      "execution_count": 48,
      "outputs": []
    },
    {
      "cell_type": "code",
      "source": [
        "# Print the preprocessed documents\n",
        "print(lemmatized_documents)"
      ],
      "metadata": {
        "colab": {
          "base_uri": "https://localhost:8080/"
        },
        "id": "cBm4x9ErNhxp",
        "outputId": "c1966386-5ce0-473c-af27-b7fe2f5f8cd9"
      },
      "execution_count": 49,
      "outputs": [
        {
          "output_type": "stream",
          "name": "stdout",
          "text": [
            "[['almost', 'everyday', 'wake', 'hating', ',', 'would', 'hate', 'though', '?', 'graduated', 'high', 'school', ',', 'loving', 'healthy', 'family', ',', 'hobby', 'online', 'friend', '.', 'yet', 'find', 'paranoid', 'hateful', ',', 'deserve', 'life', '?', 'sometimes', 'wan', 'na', 'scream', ',', 'feeling', 'like', \"'m\", 'trapped', 'another', 'person', \"'s\", 'skin', ',', 'feel', 'like', 'accomplishment', 'fake', \"'m\", 'useless', 'slab', 'meat', \"'ll\", 'eventually', 'die', '.', \"n't\", 'real', 'life', 'friend', ',', 'post', 'secondary', ',', 'job', ',', 'car', 'license', 'closest', 'family', '6', 'hour', 'away', 'barely', 'talk', '.', 'want', 'happy', 'good', 'thing', 'life', 'find', 'hating', 'easy', '.', 'hate', 'feel', 'selfish', ',', 'like', \"'m\", 'self-absorbed', 'care', '.', 'want', 'happy', 'like', 'people', 'online', 'family', ',', 'always', 'see', 'glass', 'half', 'full', 'always', 'half', 'emptythis', 'might', 'sound', 'ridiculous', ',', 'want', 'die', ',', \"'m\", 'severely', 'depressed', '.', \"'m\", 'approaching', 'purely', 'philosophically', '.', 'way', 'see', ',', 'life', 'suffering', 'joy', ',', \"'s\", 'probably', 'going', 'change', '.', 'fact', ',', 'would', 'say', 'true', 'people', '.', 'spend', 'time', 'thing', \"n't\", 'want', ':', 'working', ',', 'cleaning', ',', 'driving', 'traffic', ',', 'feeling', 'hungry', ',', 'experiencing', 'physical', 'discomfort', ',', 'etc', ',', 'etc', '.', 'would', 'better', 'exist', '(', \"n't\", 'believe', 'afterlife', ')', 'rather', 'experience', 'totality', 'consciousness', '?', 'people', 'mourn', 'death', ',', 'much', 'true', '.', \"'re\", 'going', 'mourn', 'death', 'regardless', 'happens', '.', 'mourning', 'avoided', 'making', 'happen', '.', 'anything', ',', \"'m\", 'point', 'life', 'one', 'dependent', 'death', 'smallest', 'impact', 'probably', 'ever', '.', 'die', '?', 'prescribed', 'severe', 'depression', 'anxiety.has', 'ever', 'sometimes', 'time', 'tell', 'hate', 'like', 'come', 'nowhere', '?', 'want', 'die', '.', 'like', 'deep', 'thought', 'come', 'without', 'thinking', 'like', \"'s\", 'habit', 'something', '.', 'sometimes', 'look', 'around', 'make', 'sure', 'one', 'heard', '.', 'anyone', 'ever', 'experience', '?', 'explaining', 'clearly', 'enough', '?', 'edit', ':', 'thanks', 'comment', 'today', \"n't\", 'best', 'day', 'week', 'matter', '.', \"y'all\", 'comment', 'made', 'feel', 'little', 'better', '.', 'especially', 'mr.', 'wicked91', 'thanks', ',', 'man', '!', '!', '!', '!', '!', 'could', ',', 'stop', 'existing', '.', 'would', 'heartbeat', '.', 'ca', \"n't\", '...', 'commit', 'suicide', 'order', '.', 'even', 'leave', 'footstep', '.', 'family', 'would', 'hurt', '.', 'wish', 'never', 'born', 'first', 'place', '.', 'poor', 'family', 'would', \"n't\", 'worry', '.', 'one', 'reason', \"n't\", 'done', 'yet', '.', 'girlfriend', 'would', 'also', 'upset', '.', 'want', 'go', 'without', 'anyone', 'sad', ',', 'like', 'never', 'even', 'happened', '.', 'would', 'nicebad', 'thing', 'happen', ',', 'worst', ',', \"'re\", 'inevitable', '.', 'think', \"'m\", 'better', 'dead', 'alive.to', 'kill', 'im', 'ugly', '?', 'indubitably', ',', 'worth', 'anything', ',', 'contrary', 'belief', 'redditors', 'reply', ',', 'never', 'done', 'anything', 'correct', 'life', ',', 'ever', 'succeeded', 'hurtful', 'disrespectful', 'others', 'taking', 'others', 'granted', '.', 'breed', 'catastrophe', '.', 'talented', 'skilled', 'anything', 'particular', ',', 'average', 'every', 'concept', 'known', 'man', '.', 'motivation', 'intention', 'progress', 'life', '.', 'seem', 'inconvenience', ',', 'unpleasant', 'burden', 'towards', 'society', '.', \"'d\", 'say', 'existence', 'comparable', 'tumor', ',', 'productive', 'produce', 'negative', 'effect', 'others', 'unfortunately', 'unbearable', 'pain', 'come', 'interaction', 'someone', 'like', '.', 'entrapped', 'body', ',', 'dream', 'going', 'eternal', 'sleep', ',', 'great', 'rest', 'last', 'end', 'time', '.', 'interest', 'anything', 'anymore', ',', 'daily', 'politics', 'bore', 'great', 'deal', \"'m\", 'intrigued', 'life', '.', \"n't\", 'see', 'reason', 'follow', 'intrinsic', 'value', 'drive', 'intent', 'live', '.']]\n"
          ]
        }
      ]
    },
    {
      "cell_type": "code",
      "source": [
        "# Step 1: Create a document-term matrix\n",
        "# Convert the preprocessed text data into a matrix\n",
        "dictionary = corpora.Dictionary(lemmatized_documents)\n",
        "doc_term_matrix = [dictionary.doc2bow(doc) for doc in lemmatized_documents]"
      ],
      "metadata": {
        "id": "6Qnv1iQkN1Rx"
      },
      "execution_count": 50,
      "outputs": []
    },
    {
      "cell_type": "code",
      "source": [
        "# Step 2: Choose the number of topics\n",
        "# Set the number of topics you want to extract\n",
        "num_topics = 4"
      ],
      "metadata": {
        "id": "xQcf2DzoONRb"
      },
      "execution_count": 51,
      "outputs": []
    },
    {
      "cell_type": "code",
      "source": [
        "# Step 3: Train the LDA model\n",
        "# Train an LDA model on the document-term matrix\n",
        "lda_model = LdaModel(\n",
        "    corpus=doc_term_matrix,\n",
        "    id2word=dictionary,\n",
        "    num_topics=num_topics,\n",
        "    random_state=42\n",
        ")"
      ],
      "metadata": {
        "colab": {
          "base_uri": "https://localhost:8080/"
        },
        "id": "uoGfzjhhOPd_",
        "outputId": "0ac09594-0c1c-4d38-b35d-90bafb48ef2c"
      },
      "execution_count": 52,
      "outputs": [
        {
          "output_type": "stream",
          "name": "stderr",
          "text": [
            "WARNING:gensim.models.ldamodel:too few updates, training might not converge; consider increasing the number of passes or iterations to improve accuracy\n"
          ]
        }
      ]
    },
    {
      "cell_type": "code",
      "source": [
        "# Step 4: Interpret the topics\n",
        "# Print the top words in each topic\n",
        "for i, topic in lda_model.show_topics(formatted=True, num_topics=num_topics, num_words=10):\n",
        "    print(f\"Topic {i}: {topic}\")"
      ],
      "metadata": {
        "colab": {
          "base_uri": "https://localhost:8080/"
        },
        "id": "V9VfJChbOT3L",
        "outputId": "6b80b51c-7f1e-4495-c600-44891f19a0b0"
      },
      "execution_count": 53,
      "outputs": [
        {
          "output_type": "stream",
          "name": "stdout",
          "text": [
            "Topic 0: 0.024*\",\" + 0.017*\".\" + 0.009*\"like\" + 0.008*\"n't\" + 0.007*\"?\" + 0.007*\"'m\" + 0.007*\"would\" + 0.006*\"life\" + 0.006*\"family\" + 0.006*\"!\"\n",
            "Topic 1: 0.073*\",\" + 0.066*\".\" + 0.014*\"like\" + 0.014*\"n't\" + 0.014*\"'m\" + 0.013*\"life\" + 0.013*\"would\" + 0.013*\"want\" + 0.013*\"?\" + 0.010*\"anything\"\n",
            "Topic 2: 0.048*\".\" + 0.043*\",\" + 0.014*\"like\" + 0.013*\"'m\" + 0.012*\"?\" + 0.012*\"n't\" + 0.011*\"would\" + 0.011*\"life\" + 0.008*\"family\" + 0.007*\"want\"\n",
            "Topic 3: 0.058*\".\" + 0.048*\",\" + 0.014*\"would\" + 0.014*\"like\" + 0.014*\"life\" + 0.013*\"?\" + 0.012*\"'m\" + 0.011*\"n't\" + 0.009*\"!\" + 0.008*\"die\"\n"
          ]
        }
      ]
    },
    {
      "cell_type": "code",
      "source": [
        "# Compute the coherence score\n",
        "coherence_model_lda = CoherenceModel(\n",
        "    model=lda_model,\n",
        "    texts=lemmatized_documents,\n",
        "    dictionary=dictionary,\n",
        "    coherence='c_v'\n",
        ")\n",
        "\n",
        "coherence_lda = coherence_model_lda.get_coherence()\n",
        "\n",
        "print(f\"Coherence Score: {coherence_lda}\")"
      ],
      "metadata": {
        "colab": {
          "base_uri": "https://localhost:8080/"
        },
        "id": "8d8i4qsROg7U",
        "outputId": "f524a847-cee2-4aaf-9253-d016153a7357"
      },
      "execution_count": 54,
      "outputs": [
        {
          "output_type": "stream",
          "name": "stdout",
          "text": [
            "Coherence Score: 0.20935659920622937\n"
          ]
        }
      ]
    }
  ]
}