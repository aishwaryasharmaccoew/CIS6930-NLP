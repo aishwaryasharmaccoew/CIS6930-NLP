{
  "nbformat": 4,
  "nbformat_minor": 0,
  "metadata": {
    "colab": {
      "provenance": [],
      "toc_visible": true,
      "authorship_tag": "ABX9TyPI9qrWzMXZVmGn4UGnIDEe",
      "include_colab_link": true
    },
    "kernelspec": {
      "name": "python3",
      "display_name": "Python 3"
    },
    "language_info": {
      "name": "python"
    }
  },
  "cells": [
    {
      "cell_type": "markdown",
      "metadata": {
        "id": "view-in-github",
        "colab_type": "text"
      },
      "source": [
        "<a href=\"https://colab.research.google.com/github/aishwaryasharmaccoew/CIS6930-NLP/blob/aishwarya/NLP.ipynb\" target=\"_parent\"><img src=\"https://colab.research.google.com/assets/colab-badge.svg\" alt=\"Open In Colab\"/></a>"
      ]
    },
    {
      "cell_type": "markdown",
      "source": [
        "# **LSA**\n",
        "\n",
        "**Loading Data**"
      ],
      "metadata": {
        "id": "UA3jKaM3qSzF"
      }
    },
    {
      "cell_type": "code",
      "source": [
        "import pandas as pd\n",
        "df1 = pd.read_csv(\"/content/NLP_data/depression_post_features_tfidf_256.csv\")\n",
        "df= df1[['post']].copy()\n",
        "df.head()"
      ],
      "metadata": {
        "colab": {
          "base_uri": "https://localhost:8080/",
          "height": 204
        },
        "id": "tdk7WhSNqjHn",
        "outputId": "4da196aa-858a-45b8-9f26-dce74fa50cbd"
      },
      "execution_count": 4,
      "outputs": [
        {
          "output_type": "execute_result",
          "data": {
            "text/plain": [
              "                                                post\n",
              "0  My heart aches but i cant break Recently my re...\n",
              "1  Cheers I’m not sure if this is the right sub t...\n",
              "2  Fuck titles. I’m depressed I feel so fucking w...\n",
              "3  suffering from low energy I'm not exaggerating...\n",
              "4  I can already tell This year is just going to ..."
            ],
            "text/html": [
              "\n",
              "  <div id=\"df-4192c292-cc00-405a-9bf9-57b87076ba71\">\n",
              "    <div class=\"colab-df-container\">\n",
              "      <div>\n",
              "<style scoped>\n",
              "    .dataframe tbody tr th:only-of-type {\n",
              "        vertical-align: middle;\n",
              "    }\n",
              "\n",
              "    .dataframe tbody tr th {\n",
              "        vertical-align: top;\n",
              "    }\n",
              "\n",
              "    .dataframe thead th {\n",
              "        text-align: right;\n",
              "    }\n",
              "</style>\n",
              "<table border=\"1\" class=\"dataframe\">\n",
              "  <thead>\n",
              "    <tr style=\"text-align: right;\">\n",
              "      <th></th>\n",
              "      <th>post</th>\n",
              "    </tr>\n",
              "  </thead>\n",
              "  <tbody>\n",
              "    <tr>\n",
              "      <th>0</th>\n",
              "      <td>My heart aches but i cant break Recently my re...</td>\n",
              "    </tr>\n",
              "    <tr>\n",
              "      <th>1</th>\n",
              "      <td>Cheers I’m not sure if this is the right sub t...</td>\n",
              "    </tr>\n",
              "    <tr>\n",
              "      <th>2</th>\n",
              "      <td>Fuck titles. I’m depressed I feel so fucking w...</td>\n",
              "    </tr>\n",
              "    <tr>\n",
              "      <th>3</th>\n",
              "      <td>suffering from low energy I'm not exaggerating...</td>\n",
              "    </tr>\n",
              "    <tr>\n",
              "      <th>4</th>\n",
              "      <td>I can already tell This year is just going to ...</td>\n",
              "    </tr>\n",
              "  </tbody>\n",
              "</table>\n",
              "</div>\n",
              "      <button class=\"colab-df-convert\" onclick=\"convertToInteractive('df-4192c292-cc00-405a-9bf9-57b87076ba71')\"\n",
              "              title=\"Convert this dataframe to an interactive table.\"\n",
              "              style=\"display:none;\">\n",
              "        \n",
              "  <svg xmlns=\"http://www.w3.org/2000/svg\" height=\"24px\"viewBox=\"0 0 24 24\"\n",
              "       width=\"24px\">\n",
              "    <path d=\"M0 0h24v24H0V0z\" fill=\"none\"/>\n",
              "    <path d=\"M18.56 5.44l.94 2.06.94-2.06 2.06-.94-2.06-.94-.94-2.06-.94 2.06-2.06.94zm-11 1L8.5 8.5l.94-2.06 2.06-.94-2.06-.94L8.5 2.5l-.94 2.06-2.06.94zm10 10l.94 2.06.94-2.06 2.06-.94-2.06-.94-.94-2.06-.94 2.06-2.06.94z\"/><path d=\"M17.41 7.96l-1.37-1.37c-.4-.4-.92-.59-1.43-.59-.52 0-1.04.2-1.43.59L10.3 9.45l-7.72 7.72c-.78.78-.78 2.05 0 2.83L4 21.41c.39.39.9.59 1.41.59.51 0 1.02-.2 1.41-.59l7.78-7.78 2.81-2.81c.8-.78.8-2.07 0-2.86zM5.41 20L4 18.59l7.72-7.72 1.47 1.35L5.41 20z\"/>\n",
              "  </svg>\n",
              "      </button>\n",
              "      \n",
              "  <style>\n",
              "    .colab-df-container {\n",
              "      display:flex;\n",
              "      flex-wrap:wrap;\n",
              "      gap: 12px;\n",
              "    }\n",
              "\n",
              "    .colab-df-convert {\n",
              "      background-color: #E8F0FE;\n",
              "      border: none;\n",
              "      border-radius: 50%;\n",
              "      cursor: pointer;\n",
              "      display: none;\n",
              "      fill: #1967D2;\n",
              "      height: 32px;\n",
              "      padding: 0 0 0 0;\n",
              "      width: 32px;\n",
              "    }\n",
              "\n",
              "    .colab-df-convert:hover {\n",
              "      background-color: #E2EBFA;\n",
              "      box-shadow: 0px 1px 2px rgba(60, 64, 67, 0.3), 0px 1px 3px 1px rgba(60, 64, 67, 0.15);\n",
              "      fill: #174EA6;\n",
              "    }\n",
              "\n",
              "    [theme=dark] .colab-df-convert {\n",
              "      background-color: #3B4455;\n",
              "      fill: #D2E3FC;\n",
              "    }\n",
              "\n",
              "    [theme=dark] .colab-df-convert:hover {\n",
              "      background-color: #434B5C;\n",
              "      box-shadow: 0px 1px 3px 1px rgba(0, 0, 0, 0.15);\n",
              "      filter: drop-shadow(0px 1px 2px rgba(0, 0, 0, 0.3));\n",
              "      fill: #FFFFFF;\n",
              "    }\n",
              "  </style>\n",
              "\n",
              "      <script>\n",
              "        const buttonEl =\n",
              "          document.querySelector('#df-4192c292-cc00-405a-9bf9-57b87076ba71 button.colab-df-convert');\n",
              "        buttonEl.style.display =\n",
              "          google.colab.kernel.accessAllowed ? 'block' : 'none';\n",
              "\n",
              "        async function convertToInteractive(key) {\n",
              "          const element = document.querySelector('#df-4192c292-cc00-405a-9bf9-57b87076ba71');\n",
              "          const dataTable =\n",
              "            await google.colab.kernel.invokeFunction('convertToInteractive',\n",
              "                                                     [key], {});\n",
              "          if (!dataTable) return;\n",
              "\n",
              "          const docLinkHtml = 'Like what you see? Visit the ' +\n",
              "            '<a target=\"_blank\" href=https://colab.research.google.com/notebooks/data_table.ipynb>data table notebook</a>'\n",
              "            + ' to learn more about interactive tables.';\n",
              "          element.innerHTML = '';\n",
              "          dataTable['output_type'] = 'display_data';\n",
              "          await google.colab.output.renderOutput(dataTable, element);\n",
              "          const docLink = document.createElement('div');\n",
              "          docLink.innerHTML = docLinkHtml;\n",
              "          element.appendChild(docLink);\n",
              "        }\n",
              "      </script>\n",
              "    </div>\n",
              "  </div>\n",
              "  "
            ]
          },
          "metadata": {},
          "execution_count": 4
        }
      ]
    },
    {
      "cell_type": "markdown",
      "source": [
        "**Data Preprocessing** <br>\n",
        "Steps involved are :\n",
        "1. Remove all the special characters from the text.\n",
        "2. Remove all the words with less than 5 letters.\n",
        "3. Lowercase all the characters.\n",
        "4. Remove stop words.\n",
        "5. Remove profanity\n"
      ],
      "metadata": {
        "id": "Be3t4m44wn9W"
      }
    },
    {
      "cell_type": "code",
      "source": [
        "#remove special characters\n",
        "df['preprocessed_posts'] = df['post'].str.replace(\"[^a-zA-Z#]\", \" \")\n",
        "#remove words have letters less than 5\n",
        "df['preprocessed_posts'] = df['preprocessed_posts'].fillna('').apply(lambda x: ' '.join([w for w in x.split() if len(w)>5]))\n",
        "#lowercase all characters\n",
        "df['preprocessed_posts'] = df['preprocessed_posts'].fillna('').apply(lambda x: x.lower())\n",
        "#remove stop words\n",
        "\n",
        "# Remove profanity\n",
        "\n",
        "import re\n",
        "pattern = r'\\b' + \"fuck\" + r'\\w*\\b'\n",
        "df['preprocessed_posts'] = df['preprocessed_posts'].fillna('').apply(lambda x: re.sub(pattern, '', x))\n",
        "\n",
        "\n",
        "import nltk\n",
        "nltk.download('stopwords')\n",
        "from nltk.corpus import stopwords\n",
        "stop_words = stopwords.words('english')\n",
        "# tokenization\n",
        "tokenized_doc = df['preprocessed_posts'].fillna('').apply(lambda x: x.split())\n",
        "# remove stop-words\n",
        "tokenized_doc = tokenized_doc.apply(lambda x: [item for item in x if item not in stop_words])\n",
        "# de-tokenization\n",
        "detokenized_doc = []\n",
        "for i in range(len(df)):\n",
        "    t = ' '.join(tokenized_doc[i])\n",
        "    detokenized_doc.append(t)\n",
        "df['preprocessed_posts'] = detokenized_doc\n",
        "df['preprocessed_posts']\n",
        "\n"
      ],
      "metadata": {
        "colab": {
          "base_uri": "https://localhost:8080/"
        },
        "id": "Yyupqvq0wnTl",
        "outputId": "9c61fbd1-fe7a-4229-bebd-a8b8261e8ea8"
      },
      "execution_count": 26,
      "outputs": [
        {
          "output_type": "stream",
          "name": "stderr",
          "text": [
            "<ipython-input-26-06763ff2fc40>:2: FutureWarning: The default value of regex will change from True to False in a future version.\n",
            "  df['preprocessed_posts'] = df['post'].str.replace(\"[^a-zA-Z#]\", \" \")\n",
            "[nltk_data] Downloading package stopwords to /root/nltk_data...\n",
            "[nltk_data]   Package stopwords is already up-to-date!\n"
          ]
        },
        {
          "output_type": "execute_result",
          "data": {
            "text/plain": [
              "0       recently relationship boyfriend friend attache...\n",
              "1       cheers evening opened elevator really beautifu...\n",
              "2       titles depressed worthless around everyone par...\n",
              "3       suffering energy exaggerating taking cooking c...\n",
              "4       already stupid enough optimism foolish atleast...\n",
              "                              ...                        \n",
              "4817    therapist walked chairs waitingroom vacant hal...\n",
              "4818         family wanted school wanted working bullshit\n",
              "4819    trumpet player invited finished practice every...\n",
              "4820    derealization nobody really really always noth...\n",
              "4821    feeling anybody living sudden feeling happened...\n",
              "Name: preprocessed_posts, Length: 4822, dtype: object"
            ]
          },
          "metadata": {},
          "execution_count": 26
        }
      ]
    },
    {
      "cell_type": "markdown",
      "source": [
        "**Document Term Matrix**"
      ],
      "metadata": {
        "id": "6hDTE7PfzfB4"
      }
    },
    {
      "cell_type": "code",
      "source": [
        "from sklearn.feature_extraction.text import TfidfVectorizer\n",
        "vectorizer = TfidfVectorizer(stop_words='english', smooth_idf=True)\n",
        "dtMatrix = vectorizer.fit_transform(df['preprocessed_posts'])\n",
        "dtMatrix.get_shape()"
      ],
      "metadata": {
        "colab": {
          "base_uri": "https://localhost:8080/"
        },
        "id": "B5E6GbA4sobn",
        "outputId": "dabb50b8-d264-4e2d-b7c8-a8d3519600ca"
      },
      "execution_count": 27,
      "outputs": [
        {
          "output_type": "execute_result",
          "data": {
            "text/plain": [
              "(4822, 11900)"
            ]
          },
          "metadata": {},
          "execution_count": 27
        }
      ]
    },
    {
      "cell_type": "markdown",
      "source": [
        "**Applying LSA**"
      ],
      "metadata": {
        "id": "-97Ap-Gx1M_C"
      }
    },
    {
      "cell_type": "code",
      "source": [
        "# Universally defining the final number of expected topics\n",
        "numcomp=10\n",
        "topic_num=[]\n",
        "\n",
        "for tnum in range(1,numcomp+1):\n",
        "  topic_num.append(\"topic_\"+str(tnum))\n",
        "\n",
        "# SVD represent documents and terms in vectors \n",
        "from sklearn.decomposition import TruncatedSVD\n",
        "svd_model = TruncatedSVD(n_components=numcomp, algorithm='randomized', n_iter=100, random_state=122)\n",
        "lsa = svd_model.fit_transform(dtMatrix)\n",
        "\n",
        "# Documents - Topic vector\n",
        "pd.options.display.float_format = '{:,.16f}'.format\n",
        "topic_encoded_df = pd.DataFrame(lsa, columns = topic_num)\n",
        "topic_encoded_df[\"posts\"] = df['preprocessed_posts']\n",
        "#display(topic_encoded_df[[\"posts\", \"topic_1\", \"topic_2\"]])\n",
        "\n",
        "# Features or words used as features \n",
        "dictionary = vectorizer.get_feature_names_out()\n",
        "\n",
        "# Term-Topic matrix\n",
        "encoding_matrix = pd.DataFrame(svd_model.components_, index = topic_num, columns = (dictionary)).T\n",
        "\n",
        "\n",
        "terms = vectorizer.get_feature_names_out()\n",
        "for i, comp in enumerate(svd_model.components_):\n",
        "    terms_in_comp = zip(dictionary, comp)\n",
        "    sorted_terms = sorted(terms_in_comp, key=lambda x:x[1], reverse=True)[:10]\n",
        "    topic_words = [t[0] for t in sorted_terms]\n",
        "    print(\"Topic {}: {}\".format(i+1, \", \".join(topic_words)))"
      ],
      "metadata": {
        "colab": {
          "base_uri": "https://localhost:8080/"
        },
        "id": "Duzq3sUj1MmT",
        "outputId": "a7cc2075-fcee-4a7b-f656-fbe37c65853b"
      },
      "execution_count": 29,
      "outputs": [
        {
          "output_type": "stream",
          "name": "stdout",
          "text": [
            "Topic 1: really, people, friends, depression, things, feeling, anymore, better, depressed, school\n",
            "Topic 2: people, friends, person, lonely, relationships, understand, talking, feelings, social, surrounded\n",
            "Topic 3: depression, people, better, things, depressed, feeling, anxiety, thoughts, medication, change\n",
            "Topic 4: depression, friends, school, family, anxiety, friend, people, parents, social, college\n",
            "Topic 5: anymore, better, things, living, getting, change, trying, reason, everyday, matter\n",
            "Topic 6: anymore, really, depression, people, reason, understand, shitty, tonight, feelings, diagnosed\n",
            "Topic 7: depressed, feeling, anymore, friends, suicidal, friend, lonely, crying, sadness, normal\n",
            "Topic 8: school, parents, college, feeling, people, getting, depressed, motivation, semester, thoughts\n",
            "Topic 9: feeling, thoughts, family, friends, scared, inside, suicide, finally, suicidal, lonely\n",
            "Topic 10: school, feeling, better, depression, friends, things, anymore, really, lonely, college\n"
          ]
        }
      ]
    }
  ]
}