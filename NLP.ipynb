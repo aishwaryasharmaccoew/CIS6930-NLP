{
  "nbformat": 4,
  "nbformat_minor": 0,
  "metadata": {
    "colab": {
      "provenance": [],
      "authorship_tag": "ABX9TyPykVgdDUzDrymVi3SJLl6k",
      "include_colab_link": true
    },
    "kernelspec": {
      "name": "python3",
      "display_name": "Python 3"
    },
    "language_info": {
      "name": "python"
    }
  },
  "cells": [
    {
      "cell_type": "markdown",
      "metadata": {
        "id": "view-in-github",
        "colab_type": "text"
      },
      "source": [
        "<a href=\"https://colab.research.google.com/github/aishwaryasharmaccoew/CIS6930-NLP/blob/aishwarya/NLP.ipynb\" target=\"_parent\"><img src=\"https://colab.research.google.com/assets/colab-badge.svg\" alt=\"Open In Colab\"/></a>"
      ]
    },
    {
      "cell_type": "markdown",
      "source": [
        "# **LSA**\n",
        "\n",
        "**Loading Data**"
      ],
      "metadata": {
        "id": "UA3jKaM3qSzF"
      }
    },
    {
      "cell_type": "code",
      "source": [
        "import pandas as pd\n",
        "df1 = pd.read_csv(\"/content/NLP_data/depression_post_features_tfidf_256.csv\")\n",
        "df= df1[['post']].copy()\n",
        "df.head()"
      ],
      "metadata": {
        "colab": {
          "base_uri": "https://localhost:8080/",
          "height": 204
        },
        "id": "tdk7WhSNqjHn",
        "outputId": "425208d2-2b71-4107-da6c-b4f66134cd54"
      },
      "execution_count": null,
      "outputs": [
        {
          "output_type": "execute_result",
          "data": {
            "text/plain": [
              "                                                post\n",
              "0  My heart aches but i cant break Recently my re...\n",
              "1  Cheers I’m not sure if this is the right sub t...\n",
              "2  Fuck titles. I’m depressed I feel so fucking w...\n",
              "3  suffering from low energy I'm not exaggerating...\n",
              "4  I can already tell This year is just going to ..."
            ],
            "text/html": [
              "\n",
              "  <div id=\"df-6f164a84-11d8-4acb-af3f-db3aacd28ad5\">\n",
              "    <div class=\"colab-df-container\">\n",
              "      <div>\n",
              "<style scoped>\n",
              "    .dataframe tbody tr th:only-of-type {\n",
              "        vertical-align: middle;\n",
              "    }\n",
              "\n",
              "    .dataframe tbody tr th {\n",
              "        vertical-align: top;\n",
              "    }\n",
              "\n",
              "    .dataframe thead th {\n",
              "        text-align: right;\n",
              "    }\n",
              "</style>\n",
              "<table border=\"1\" class=\"dataframe\">\n",
              "  <thead>\n",
              "    <tr style=\"text-align: right;\">\n",
              "      <th></th>\n",
              "      <th>post</th>\n",
              "    </tr>\n",
              "  </thead>\n",
              "  <tbody>\n",
              "    <tr>\n",
              "      <th>0</th>\n",
              "      <td>My heart aches but i cant break Recently my re...</td>\n",
              "    </tr>\n",
              "    <tr>\n",
              "      <th>1</th>\n",
              "      <td>Cheers I’m not sure if this is the right sub t...</td>\n",
              "    </tr>\n",
              "    <tr>\n",
              "      <th>2</th>\n",
              "      <td>Fuck titles. I’m depressed I feel so fucking w...</td>\n",
              "    </tr>\n",
              "    <tr>\n",
              "      <th>3</th>\n",
              "      <td>suffering from low energy I'm not exaggerating...</td>\n",
              "    </tr>\n",
              "    <tr>\n",
              "      <th>4</th>\n",
              "      <td>I can already tell This year is just going to ...</td>\n",
              "    </tr>\n",
              "  </tbody>\n",
              "</table>\n",
              "</div>\n",
              "      <button class=\"colab-df-convert\" onclick=\"convertToInteractive('df-6f164a84-11d8-4acb-af3f-db3aacd28ad5')\"\n",
              "              title=\"Convert this dataframe to an interactive table.\"\n",
              "              style=\"display:none;\">\n",
              "        \n",
              "  <svg xmlns=\"http://www.w3.org/2000/svg\" height=\"24px\"viewBox=\"0 0 24 24\"\n",
              "       width=\"24px\">\n",
              "    <path d=\"M0 0h24v24H0V0z\" fill=\"none\"/>\n",
              "    <path d=\"M18.56 5.44l.94 2.06.94-2.06 2.06-.94-2.06-.94-.94-2.06-.94 2.06-2.06.94zm-11 1L8.5 8.5l.94-2.06 2.06-.94-2.06-.94L8.5 2.5l-.94 2.06-2.06.94zm10 10l.94 2.06.94-2.06 2.06-.94-2.06-.94-.94-2.06-.94 2.06-2.06.94z\"/><path d=\"M17.41 7.96l-1.37-1.37c-.4-.4-.92-.59-1.43-.59-.52 0-1.04.2-1.43.59L10.3 9.45l-7.72 7.72c-.78.78-.78 2.05 0 2.83L4 21.41c.39.39.9.59 1.41.59.51 0 1.02-.2 1.41-.59l7.78-7.78 2.81-2.81c.8-.78.8-2.07 0-2.86zM5.41 20L4 18.59l7.72-7.72 1.47 1.35L5.41 20z\"/>\n",
              "  </svg>\n",
              "      </button>\n",
              "      \n",
              "  <style>\n",
              "    .colab-df-container {\n",
              "      display:flex;\n",
              "      flex-wrap:wrap;\n",
              "      gap: 12px;\n",
              "    }\n",
              "\n",
              "    .colab-df-convert {\n",
              "      background-color: #E8F0FE;\n",
              "      border: none;\n",
              "      border-radius: 50%;\n",
              "      cursor: pointer;\n",
              "      display: none;\n",
              "      fill: #1967D2;\n",
              "      height: 32px;\n",
              "      padding: 0 0 0 0;\n",
              "      width: 32px;\n",
              "    }\n",
              "\n",
              "    .colab-df-convert:hover {\n",
              "      background-color: #E2EBFA;\n",
              "      box-shadow: 0px 1px 2px rgba(60, 64, 67, 0.3), 0px 1px 3px 1px rgba(60, 64, 67, 0.15);\n",
              "      fill: #174EA6;\n",
              "    }\n",
              "\n",
              "    [theme=dark] .colab-df-convert {\n",
              "      background-color: #3B4455;\n",
              "      fill: #D2E3FC;\n",
              "    }\n",
              "\n",
              "    [theme=dark] .colab-df-convert:hover {\n",
              "      background-color: #434B5C;\n",
              "      box-shadow: 0px 1px 3px 1px rgba(0, 0, 0, 0.15);\n",
              "      filter: drop-shadow(0px 1px 2px rgba(0, 0, 0, 0.3));\n",
              "      fill: #FFFFFF;\n",
              "    }\n",
              "  </style>\n",
              "\n",
              "      <script>\n",
              "        const buttonEl =\n",
              "          document.querySelector('#df-6f164a84-11d8-4acb-af3f-db3aacd28ad5 button.colab-df-convert');\n",
              "        buttonEl.style.display =\n",
              "          google.colab.kernel.accessAllowed ? 'block' : 'none';\n",
              "\n",
              "        async function convertToInteractive(key) {\n",
              "          const element = document.querySelector('#df-6f164a84-11d8-4acb-af3f-db3aacd28ad5');\n",
              "          const dataTable =\n",
              "            await google.colab.kernel.invokeFunction('convertToInteractive',\n",
              "                                                     [key], {});\n",
              "          if (!dataTable) return;\n",
              "\n",
              "          const docLinkHtml = 'Like what you see? Visit the ' +\n",
              "            '<a target=\"_blank\" href=https://colab.research.google.com/notebooks/data_table.ipynb>data table notebook</a>'\n",
              "            + ' to learn more about interactive tables.';\n",
              "          element.innerHTML = '';\n",
              "          dataTable['output_type'] = 'display_data';\n",
              "          await google.colab.output.renderOutput(dataTable, element);\n",
              "          const docLink = document.createElement('div');\n",
              "          docLink.innerHTML = docLinkHtml;\n",
              "          element.appendChild(docLink);\n",
              "        }\n",
              "      </script>\n",
              "    </div>\n",
              "  </div>\n",
              "  "
            ]
          },
          "metadata": {},
          "execution_count": 22
        }
      ]
    },
    {
      "cell_type": "markdown",
      "source": [
        "**Data Preprocessing** <br>\n",
        "Steps involved are :\n",
        "1. Remove all the special characters from the text.\n",
        "2. Remove all the words with less than 3 letters.\n",
        "3. Lowercase all the characters.\n",
        "4. Remove stop words."
      ],
      "metadata": {
        "id": "Be3t4m44wn9W"
      }
    },
    {
      "cell_type": "code",
      "source": [
        "#remove special characters\n",
        "df['preprocessed_posts'] = df['post'].str.replace(\"[^a-zA-Z#]\", \" \")\n",
        "#remove words have letters less than 3\n",
        "df['preprocessed_posts'] = df['preprocessed_posts'].fillna('').apply(lambda x: ' '.join([w for w in x.split() if len(w)>2]))\n",
        "#lowercase all characters\n",
        "df['preprocessed_posts'] = df['preprocessed_posts'].fillna('').apply(lambda x: x.lower())\n",
        "#remove stop words\n",
        "\n",
        "import nltk\n",
        "nltk.download('stopwords')\n",
        "from nltk.corpus import stopwords\n",
        "stop_words = stopwords.words('english')\n",
        "# tokenization\n",
        "tokenized_doc = df['preprocessed_posts'].fillna('').apply(lambda x: x.split())\n",
        "# remove stop-words\n",
        "tokenized_doc = tokenized_doc.apply(lambda x: [item for item in x if item not in stop_words])\n",
        "# de-tokenization\n",
        "detokenized_doc = []\n",
        "for i in range(len(df)):\n",
        "    t = ' '.join(tokenized_doc[i])\n",
        "    detokenized_doc.append(t)\n",
        "df['preprocessed_posts'] = detokenized_doc\n",
        "df['preprocessed_posts']"
      ],
      "metadata": {
        "colab": {
          "base_uri": "https://localhost:8080/"
        },
        "id": "Yyupqvq0wnTl",
        "outputId": "66a1bbef-1e1b-456d-abd5-d203f41a2ae4"
      },
      "execution_count": null,
      "outputs": [
        {
          "output_type": "stream",
          "name": "stderr",
          "text": [
            "<ipython-input-23-523bab568e00>:2: FutureWarning: The default value of regex will change from True to False in a future version.\n",
            "  df['preprocessed_posts'] = df['post'].str.replace(\"[^a-zA-Z#]\", \" \")\n",
            "[nltk_data] Downloading package stopwords to /root/nltk_data...\n",
            "[nltk_data]   Package stopwords is already up-to-date!\n"
          ]
        },
        {
          "output_type": "execute_result",
          "data": {
            "text/plain": [
              "0        heart aches cant break recently relationship e...\n",
              "1        cheers sure right sub post evening soon opened...\n",
              "2        fuck titles depressed feel fucking worthless a...\n",
              "3        suffering low energy exaggerating say taking c...\n",
              "4        already tell year going suck ass worse last ye...\n",
              "                               ...                        \n",
              "38028    someone please help take anymore want disappea...\n",
              "38029    really depressed talked school nurse times cor...\n",
              "38030    feel alone feel like shit people dont care thi...\n",
              "38031    messed big want make things right girlfriend e...\n",
              "38032    suicide attempt survivor guys know depression ...\n",
              "Name: preprocessed_posts, Length: 38033, dtype: object"
            ]
          },
          "metadata": {},
          "execution_count": 23
        }
      ]
    },
    {
      "cell_type": "markdown",
      "source": [
        "**Document Term Matrix**"
      ],
      "metadata": {
        "id": "6hDTE7PfzfB4"
      }
    },
    {
      "cell_type": "code",
      "source": [
        "from sklearn.feature_extraction.text import TfidfVectorizer\n",
        "vectorizer = TfidfVectorizer(stop_words='english', smooth_idf=True)\n",
        "dtMatrix = vectorizer.fit_transform(df['preprocessed_posts'])\n",
        "dtMatrix.get_shape()"
      ],
      "metadata": {
        "colab": {
          "base_uri": "https://localhost:8080/"
        },
        "id": "B5E6GbA4sobn",
        "outputId": "ce9ab54e-bf2e-4832-b911-49d3985cdf69"
      },
      "execution_count": null,
      "outputs": [
        {
          "output_type": "execute_result",
          "data": {
            "text/plain": [
              "(38033, 40530)"
            ]
          },
          "metadata": {},
          "execution_count": 25
        }
      ]
    },
    {
      "cell_type": "markdown",
      "source": [
        "**Applying LSA**"
      ],
      "metadata": {
        "id": "-97Ap-Gx1M_C"
      }
    },
    {
      "cell_type": "code",
      "source": [
        "# SVD represent documents and terms in vectors \n",
        "from sklearn.decomposition import TruncatedSVD\n",
        "svd_model = TruncatedSVD(n_components=2, algorithm='randomized', n_iter=100, random_state=122)\n",
        "lsa = svd_model.fit_transform(dtMatrix)\n",
        "\n",
        "# Documents - Topic vector\n",
        "pd.options.display.float_format = '{:,.16f}'.format\n",
        "topic_encoded_df = pd.DataFrame(lsa, columns = [\"topic_1\", \"topic_2\"])\n",
        "topic_encoded_df[\"posts\"] = df['preprocessed_posts']\n",
        "display(topic_encoded_df[[\"posts\", \"topic_1\", \"topic_2\"]])\n",
        "\n",
        "# Features or words used as features \n",
        "dictionary = vectorizer.get_feature_names_out()\n",
        "\n",
        "# Term-Topic matrix\n",
        "encoding_matrix = pd.DataFrame(svd_model.components_, index = [\"topic_1\",\"topic_2\"], columns = (dictionary)).T"
      ],
      "metadata": {
        "colab": {
          "base_uri": "https://localhost:8080/",
          "height": 1858
        },
        "id": "Duzq3sUj1MmT",
        "outputId": "9ce669e9-b1a8-46d9-fc57-353c2e89422a"
      },
      "execution_count": null,
      "outputs": [
        {
          "output_type": "display_data",
          "data": {
            "text/plain": [
              "                                                   posts            topic_1  \\\n",
              "0      heart aches cant break recently relationship e... 0.2309806433931381   \n",
              "1      cheers sure right sub post evening soon opened... 0.1003752553958088   \n",
              "2      fuck titles depressed feel fucking worthless a... 0.1852792754628234   \n",
              "3      suffering low energy exaggerating say taking c... 0.2372180114753215   \n",
              "4      already tell year going suck ass worse last ye... 0.1336300430952184   \n",
              "...                                                  ...                ...   \n",
              "38028  someone please help take anymore want disappea... 0.1772170210268793   \n",
              "38029  really depressed talked school nurse times cor... 0.2415290464040728   \n",
              "38030  feel alone feel like shit people dont care thi... 0.2813408267103144   \n",
              "38031  messed big want make things right girlfriend e... 0.2772080384249981   \n",
              "38032  suicide attempt survivor guys know depression ... 0.1931073889403628   \n",
              "\n",
              "                  topic_2  \n",
              "0     -0.0451195675077753  \n",
              "1     -0.0379164654413944  \n",
              "2      0.0281741285871794  \n",
              "3      0.1079603848093750  \n",
              "4     -0.0184225634586203  \n",
              "...                   ...  \n",
              "38028  0.0522970880649217  \n",
              "38029 -0.0558942346457298  \n",
              "38030  0.2613894529534259  \n",
              "38031 -0.0507287180178646  \n",
              "38032  0.0251932950344150  \n",
              "\n",
              "[38033 rows x 3 columns]"
            ],
            "text/html": [
              "\n",
              "  <div id=\"df-835836d0-fb23-441d-8e58-5a320a709bf4\">\n",
              "    <div class=\"colab-df-container\">\n",
              "      <div>\n",
              "<style scoped>\n",
              "    .dataframe tbody tr th:only-of-type {\n",
              "        vertical-align: middle;\n",
              "    }\n",
              "\n",
              "    .dataframe tbody tr th {\n",
              "        vertical-align: top;\n",
              "    }\n",
              "\n",
              "    .dataframe thead th {\n",
              "        text-align: right;\n",
              "    }\n",
              "</style>\n",
              "<table border=\"1\" class=\"dataframe\">\n",
              "  <thead>\n",
              "    <tr style=\"text-align: right;\">\n",
              "      <th></th>\n",
              "      <th>posts</th>\n",
              "      <th>topic_1</th>\n",
              "      <th>topic_2</th>\n",
              "    </tr>\n",
              "  </thead>\n",
              "  <tbody>\n",
              "    <tr>\n",
              "      <th>0</th>\n",
              "      <td>heart aches cant break recently relationship e...</td>\n",
              "      <td>0.2309806433931381</td>\n",
              "      <td>-0.0451195675077753</td>\n",
              "    </tr>\n",
              "    <tr>\n",
              "      <th>1</th>\n",
              "      <td>cheers sure right sub post evening soon opened...</td>\n",
              "      <td>0.1003752553958088</td>\n",
              "      <td>-0.0379164654413944</td>\n",
              "    </tr>\n",
              "    <tr>\n",
              "      <th>2</th>\n",
              "      <td>fuck titles depressed feel fucking worthless a...</td>\n",
              "      <td>0.1852792754628234</td>\n",
              "      <td>0.0281741285871794</td>\n",
              "    </tr>\n",
              "    <tr>\n",
              "      <th>3</th>\n",
              "      <td>suffering low energy exaggerating say taking c...</td>\n",
              "      <td>0.2372180114753215</td>\n",
              "      <td>0.1079603848093750</td>\n",
              "    </tr>\n",
              "    <tr>\n",
              "      <th>4</th>\n",
              "      <td>already tell year going suck ass worse last ye...</td>\n",
              "      <td>0.1336300430952184</td>\n",
              "      <td>-0.0184225634586203</td>\n",
              "    </tr>\n",
              "    <tr>\n",
              "      <th>...</th>\n",
              "      <td>...</td>\n",
              "      <td>...</td>\n",
              "      <td>...</td>\n",
              "    </tr>\n",
              "    <tr>\n",
              "      <th>38028</th>\n",
              "      <td>someone please help take anymore want disappea...</td>\n",
              "      <td>0.1772170210268793</td>\n",
              "      <td>0.0522970880649217</td>\n",
              "    </tr>\n",
              "    <tr>\n",
              "      <th>38029</th>\n",
              "      <td>really depressed talked school nurse times cor...</td>\n",
              "      <td>0.2415290464040728</td>\n",
              "      <td>-0.0558942346457298</td>\n",
              "    </tr>\n",
              "    <tr>\n",
              "      <th>38030</th>\n",
              "      <td>feel alone feel like shit people dont care thi...</td>\n",
              "      <td>0.2813408267103144</td>\n",
              "      <td>0.2613894529534259</td>\n",
              "    </tr>\n",
              "    <tr>\n",
              "      <th>38031</th>\n",
              "      <td>messed big want make things right girlfriend e...</td>\n",
              "      <td>0.2772080384249981</td>\n",
              "      <td>-0.0507287180178646</td>\n",
              "    </tr>\n",
              "    <tr>\n",
              "      <th>38032</th>\n",
              "      <td>suicide attempt survivor guys know depression ...</td>\n",
              "      <td>0.1931073889403628</td>\n",
              "      <td>0.0251932950344150</td>\n",
              "    </tr>\n",
              "  </tbody>\n",
              "</table>\n",
              "<p>38033 rows × 3 columns</p>\n",
              "</div>\n",
              "      <button class=\"colab-df-convert\" onclick=\"convertToInteractive('df-835836d0-fb23-441d-8e58-5a320a709bf4')\"\n",
              "              title=\"Convert this dataframe to an interactive table.\"\n",
              "              style=\"display:none;\">\n",
              "        \n",
              "  <svg xmlns=\"http://www.w3.org/2000/svg\" height=\"24px\"viewBox=\"0 0 24 24\"\n",
              "       width=\"24px\">\n",
              "    <path d=\"M0 0h24v24H0V0z\" fill=\"none\"/>\n",
              "    <path d=\"M18.56 5.44l.94 2.06.94-2.06 2.06-.94-2.06-.94-.94-2.06-.94 2.06-2.06.94zm-11 1L8.5 8.5l.94-2.06 2.06-.94-2.06-.94L8.5 2.5l-.94 2.06-2.06.94zm10 10l.94 2.06.94-2.06 2.06-.94-2.06-.94-.94-2.06-.94 2.06-2.06.94z\"/><path d=\"M17.41 7.96l-1.37-1.37c-.4-.4-.92-.59-1.43-.59-.52 0-1.04.2-1.43.59L10.3 9.45l-7.72 7.72c-.78.78-.78 2.05 0 2.83L4 21.41c.39.39.9.59 1.41.59.51 0 1.02-.2 1.41-.59l7.78-7.78 2.81-2.81c.8-.78.8-2.07 0-2.86zM5.41 20L4 18.59l7.72-7.72 1.47 1.35L5.41 20z\"/>\n",
              "  </svg>\n",
              "      </button>\n",
              "      \n",
              "  <style>\n",
              "    .colab-df-container {\n",
              "      display:flex;\n",
              "      flex-wrap:wrap;\n",
              "      gap: 12px;\n",
              "    }\n",
              "\n",
              "    .colab-df-convert {\n",
              "      background-color: #E8F0FE;\n",
              "      border: none;\n",
              "      border-radius: 50%;\n",
              "      cursor: pointer;\n",
              "      display: none;\n",
              "      fill: #1967D2;\n",
              "      height: 32px;\n",
              "      padding: 0 0 0 0;\n",
              "      width: 32px;\n",
              "    }\n",
              "\n",
              "    .colab-df-convert:hover {\n",
              "      background-color: #E2EBFA;\n",
              "      box-shadow: 0px 1px 2px rgba(60, 64, 67, 0.3), 0px 1px 3px 1px rgba(60, 64, 67, 0.15);\n",
              "      fill: #174EA6;\n",
              "    }\n",
              "\n",
              "    [theme=dark] .colab-df-convert {\n",
              "      background-color: #3B4455;\n",
              "      fill: #D2E3FC;\n",
              "    }\n",
              "\n",
              "    [theme=dark] .colab-df-convert:hover {\n",
              "      background-color: #434B5C;\n",
              "      box-shadow: 0px 1px 3px 1px rgba(0, 0, 0, 0.15);\n",
              "      filter: drop-shadow(0px 1px 2px rgba(0, 0, 0, 0.3));\n",
              "      fill: #FFFFFF;\n",
              "    }\n",
              "  </style>\n",
              "\n",
              "      <script>\n",
              "        const buttonEl =\n",
              "          document.querySelector('#df-835836d0-fb23-441d-8e58-5a320a709bf4 button.colab-df-convert');\n",
              "        buttonEl.style.display =\n",
              "          google.colab.kernel.accessAllowed ? 'block' : 'none';\n",
              "\n",
              "        async function convertToInteractive(key) {\n",
              "          const element = document.querySelector('#df-835836d0-fb23-441d-8e58-5a320a709bf4');\n",
              "          const dataTable =\n",
              "            await google.colab.kernel.invokeFunction('convertToInteractive',\n",
              "                                                     [key], {});\n",
              "          if (!dataTable) return;\n",
              "\n",
              "          const docLinkHtml = 'Like what you see? Visit the ' +\n",
              "            '<a target=\"_blank\" href=https://colab.research.google.com/notebooks/data_table.ipynb>data table notebook</a>'\n",
              "            + ' to learn more about interactive tables.';\n",
              "          element.innerHTML = '';\n",
              "          dataTable['output_type'] = 'display_data';\n",
              "          await google.colab.output.renderOutput(dataTable, element);\n",
              "          const docLink = document.createElement('div');\n",
              "          docLink.innerHTML = docLinkHtml;\n",
              "          element.appendChild(docLink);\n",
              "        }\n",
              "      </script>\n",
              "    </div>\n",
              "  </div>\n",
              "  "
            ]
          },
          "metadata": {}
        },
        {
          "output_type": "stream",
          "name": "stdout",
          "text": [
            "Warning: total number of rows (38033) exceeds max_rows (20000). Limiting to first (20000) rows.\n"
          ]
        }
      ]
    }
  ]
}